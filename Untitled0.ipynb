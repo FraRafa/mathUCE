{
  "nbformat": 4,
  "nbformat_minor": 0,
  "metadata": {
    "colab": {
      "provenance": [],
      "toc_visible": true
    },
    "kernelspec": {
      "name": "python3",
      "display_name": "Python 3"
    },
    "language_info": {
      "name": "python"
    }
  },
  "cells": [
    {
      "cell_type": "markdown",
      "source": [
        "# Ejemplo de LaTeX en Google Colab\n",
        "\n",
        "Podemos escribir ecuaciones en línea, como $ E = mc^2 $, o en un bloque separado:\n",
        "\n",
        "$$\n",
        "E = mc^2\n",
        "$$\n",
        "\n",
        "También podemos usar más complejas, como la fórmula cuadrática:\n",
        "\n",
        "$$\n",
        "x = \\frac{{-b \\pm \\sqrt{{b^2 - 4ac}}}}{{2a}}\n",
        "$$\n"
      ],
      "metadata": {
        "id": "9thua552L7UB"
      }
    },
    {
      "cell_type": "markdown",
      "source": [
        "# CLASE 1\n",
        "### **FUNDAMENTOS DE LÓGICA Y CONJUNTOS: LA BASE DE LAS MATEMÁTICAS Y LA PROGRAMACIÓN**\n",
        "\n",
        "## Lógica proposicional\n"
      ],
      "metadata": {
        "id": "xDmLD_tpRiBq"
      }
    },
    {
      "cell_type": "code",
      "source": [],
      "metadata": {
        "id": "bvGyA5txh5r2"
      },
      "execution_count": null,
      "outputs": []
    }
  ]
}