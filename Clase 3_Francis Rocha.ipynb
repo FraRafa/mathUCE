{
  "nbformat": 4,
  "nbformat_minor": 0,
  "metadata": {
    "colab": {
      "provenance": [],
      "toc_visible": true
    },
    "kernelspec": {
      "name": "python3",
      "display_name": "Python 3"
    },
    "language_info": {
      "name": "python"
    }
  },
  "cells": [
    {
      "cell_type": "markdown",
      "source": [
        "# Clase 3\n",
        "\n",
        "## Introducción a Python: Sistemas Numéricos y Cardinalidad\n",
        "\n",
        "### Introducción a Python\n",
        "\n",
        "Python es un lenguaje de programación interpretado, fácil de aprender y con una amplia gama de aplicaciones, desde el desarrollo web hasta la inteligencia artificial y el aprendizaje automático. Su popularidad se debe a su sintaxis simple y legible, lo que facilita el aprendizaje para principiantes y permite el desarrollo rápido y eficiente para programadores experimentados. Python cuenta con una gran comunidad de desarrolladores y una alta demanda en el mercado laboral.\n",
        "\n",
        "Los lenguajes de programación se dividen en compilados e interpretados. En los lenguajes compilados, el código fuente se traduce una vez a lenguaje máquina (ejemplos: C, Java), mientras que en los lenguajes interpretados, como Python, el código se traduce cada vez que se ejecuta el programa.\n",
        "\n",
        "### Sistemas Numéricos\n",
        "\n",
        "Python maneja varios tipos de números, cada uno con sus características y usos específicos.\n",
        "\n",
        "#### Números Enteros\n",
        "\n",
        "Los números enteros (int) son números sin parte decimal. Python permite manejar enteros de cualquier tamaño, solo limitados por la memoria disponible.\n",
        "\n",
        "a = 10\n",
        "\n",
        "b = -5\n",
        "\n",
        "c = 12345678901234567890\n",
        "\n",
        "\n",
        "\n",
        "#### Números Flotantes\n",
        "\n",
        "Los números flotantes (float) representan números con parte decimal. Utilizan el estándar IEEE 754 para su representación\n",
        "\n",
        "pi = 3.14159\n",
        "\n",
        "e = 2.71828\n",
        "\n",
        "#### Números Complejos\n",
        "\n",
        "Los números complejos se representan como a + bj, donde a es la parte real y b es la parte imaginaria. Python proporciona soporte nativo para números complejos.\n",
        "\n",
        "z = 3 + 4j\n",
        "\n",
        "conjugado_z = z.conjugate()\n",
        "\n",
        "Cada número complejo tiene un conjugado, que tiene el mismo valor real pero con el signo opuesto en la parte imaginaria. Los números complejos se pueden representar en el plano complejo como pares ordenados, análogos a trabajar en\n",
        "$ 𝑅^2 $\n",
        "\n",
        "## Cardinalidad\n",
        "\n",
        "La cardinalidad se refiere al número de elementos en un conjunto. Es una noción crucial en matemáticas para comparar el tamaño de diferentes conjuntos, especialmente cuando se trata de infinitos.\n",
        "\n",
        "### Conjuntos Finito e Infinitos\n",
        "\n",
        "Un conjunto finito tiene un número finito de elementos, mientras que un conjunto infinito tiene un número ilimitado de elementos. No todas las infinitudes tienen el mismo tamaño.\n",
        "\n",
        "### Comparación de Cardinalidades\n",
        "\n",
        "\n",
        "La cardinalidad de conjuntos finitos es simplemente el conteo de sus elementos. Para conjuntos infinitos, como los números naturales (𝑁) y los números reales (\n",
        "𝑅), se utilizan conceptos más avanzados. Por ejemplo, los conjuntos 𝑁\n",
        " y 𝑅 son infinitos, pero\n",
        "𝑅 tiene una mayor cardinalidad que\n",
        "𝑁.\n",
        "\n",
        "### Producto Cartesiano\n",
        "\n",
        "El producto cartesiano de dos conjuntos\n",
        "𝐴 y 𝐵, denotado 𝐴×𝐵, es el conjunto de todos los pares ordenados\n",
        "(𝑎,𝑏)donde\n",
        "𝑎\n",
        "∈\n",
        "𝐴\n",
        " y\n",
        "𝑏\n",
        "∈\n",
        "𝐵\n",
        ". Este concepto se puede extender a más de dos conjuntos, como\n",
        "$R^{3}$ o $R^{n}$\n"
      ],
      "metadata": {
        "id": "vi_8I9FhgZr_"
      }
    },
    {
      "cell_type": "code",
      "source": [
        "# Ejemplo de números enteros\n",
        "a = 10\n",
        "b = -5\n",
        "print(\"Números enteros:\", a, b)\n",
        "\n",
        "# Ejemplo de números flotantes\n",
        "pi = 3.14159\n",
        "e = 2.71828\n",
        "print(\"Números flotantes:\", pi, e)\n",
        "\n",
        "# Ejemplo de números complejos\n",
        "z = 3 + 4j\n",
        "conjugado_z = z.conjugate()\n",
        "print(\"Número complejo:\", z)\n",
        "print(\"Conjugado del número complejo:\", conjugado_z)\n",
        "\n",
        "# Producto cartesiano\n",
        "A = {1, 2}\n",
        "B = {'a', 'b'}\n",
        "AxB = {(a, b) for a in A for b in B}\n",
        "print(\"Producto cartesiano A x B:\", AxB)\n"
      ],
      "metadata": {
        "colab": {
          "base_uri": "https://localhost:8080/"
        },
        "id": "olHATBtLiMTL",
        "outputId": "62306709-ba53-4330-930e-ed8f00c27926"
      },
      "execution_count": 1,
      "outputs": [
        {
          "output_type": "stream",
          "name": "stdout",
          "text": [
            "Números enteros: 10 -5\n",
            "Números flotantes: 3.14159 2.71828\n",
            "Número complejo: (3+4j)\n",
            "Conjugado del número complejo: (3-4j)\n",
            "Producto cartesiano A x B: {(1, 'a'), (2, 'b'), (2, 'a'), (1, 'b')}\n"
          ]
        }
      ]
    }
  ]
}